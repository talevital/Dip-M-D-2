{
 "cells": [
  {
   "cell_type": "code",
   "execution_count": 1,
   "id": "9c449533",
   "metadata": {},
   "outputs": [
    {
     "data": {
      "text/html": [
       "<div>\n",
       "<style scoped>\n",
       "    .dataframe tbody tr th:only-of-type {\n",
       "        vertical-align: middle;\n",
       "    }\n",
       "\n",
       "    .dataframe tbody tr th {\n",
       "        vertical-align: top;\n",
       "    }\n",
       "\n",
       "    .dataframe thead th {\n",
       "        text-align: right;\n",
       "    }\n",
       "</style>\n",
       "<table border=\"1\" class=\"dataframe\">\n",
       "  <thead>\n",
       "    <tr style=\"text-align: right;\">\n",
       "      <th></th>\n",
       "      <th>NOM_ET_PRENOMS</th>\n",
       "      <th>NOM_SIMILAIRE</th>\n",
       "    </tr>\n",
       "  </thead>\n",
       "  <tbody>\n",
       "    <tr>\n",
       "      <th>0</th>\n",
       "      <td>ZERBI ZED</td>\n",
       "      <td>ZERBI ZED ELJO</td>\n",
       "    </tr>\n",
       "    <tr>\n",
       "      <th>1</th>\n",
       "      <td>ZED ZERBI</td>\n",
       "      <td>ZERBI ZED ELJO</td>\n",
       "    </tr>\n",
       "    <tr>\n",
       "      <th>2</th>\n",
       "      <td>ZERBI ZED ELJO</td>\n",
       "      <td>ZERBI ZED ELJO</td>\n",
       "    </tr>\n",
       "    <tr>\n",
       "      <th>3</th>\n",
       "      <td>ELJO ZERBI ZED</td>\n",
       "      <td>ZERBI ZED ELJO</td>\n",
       "    </tr>\n",
       "  </tbody>\n",
       "</table>\n",
       "</div>"
      ],
      "text/plain": [
       "   NOM_ET_PRENOMS   NOM_SIMILAIRE\n",
       "0       ZERBI ZED  ZERBI ZED ELJO\n",
       "1       ZED ZERBI  ZERBI ZED ELJO\n",
       "2  ZERBI ZED ELJO  ZERBI ZED ELJO\n",
       "3  ELJO ZERBI ZED  ZERBI ZED ELJO"
      ]
     },
     "execution_count": 1,
     "metadata": {},
     "output_type": "execute_result"
    }
   ],
   "source": [
    "from fuzzywuzzy import process\n",
    "import pandas as pd\n",
    "\n",
    "df = pd.DataFrame({'NOM_ET_PRENOMS': ['ZERBI ZED', 'ZED ZERBI', 'ZERBI ZED ELJO', 'ELJO ZERBI ZED']})\n",
    "\n",
    "def elements_similaire(df, column_name=\"NOM_ET_PRENOMS\", seuil=80):\n",
    "    for nom in df[column_name]:\n",
    "        liste_similaire = []\n",
    "        autres = df.loc[df[column_name] != nom, column_name].tolist()\n",
    "        resultat = process.extractBests(nom, autres)\n",
    "        \n",
    "        for nom_similaire, score in resultat:\n",
    "            if score >= seuil:\n",
    "                liste_similaire.append(nom_similaire)\n",
    "        if liste_similaire:\n",
    "            return max(liste_similaire, key=len)\n",
    "        else:\n",
    "            return None\n",
    "\n",
    "df[\"NOM_SIMILAIRE\"] = elements_similaire(df)\n",
    "df"
   ]
  }
 ],
 "metadata": {
  "kernelspec": {
   "display_name": "Python 3 (ipykernel)",
   "language": "python",
   "name": "python3"
  },
  "language_info": {
   "codemirror_mode": {
    "name": "ipython",
    "version": 3
   },
   "file_extension": ".py",
   "mimetype": "text/x-python",
   "name": "python",
   "nbconvert_exporter": "python",
   "pygments_lexer": "ipython3",
   "version": "3.11.4"
  }
 },
 "nbformat": 4,
 "nbformat_minor": 5
}
